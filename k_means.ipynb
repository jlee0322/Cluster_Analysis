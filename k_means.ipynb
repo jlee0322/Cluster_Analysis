{
 "cells": [
  {
   "cell_type": "code",
   "execution_count": 1,
   "id": "0851d7c4-59f6-4667-a86c-7c05dd955d8a",
   "metadata": {},
   "outputs": [],
   "source": [
    "import matplotlib.pyplot as plt\n",
    "import collections\n",
    "import time\n",
    "import pandas as pd\n",
    "from sklearn.cluster import KMeans\n",
    "from sklearn.preprocessing import LabelEncoder\n",
    "\n",
    "bank = pd.read_csv('bank.data')\n",
    "\n",
    "X = bank.iloc[:,:-1]\n",
    "y = bank['y']\n",
    "\n",
    "X = X.apply(LabelEncoder().fit_transform)"
   ]
  },
  {
   "cell_type": "code",
   "execution_count": 2,
   "id": "959a9860-bc6d-4bfb-8582-e74de0091bec",
   "metadata": {},
   "outputs": [],
   "source": [
    "def purity(result, label):\n",
    "    # 计算纯度\n",
    "\n",
    "    total_num = len(label)\n",
    "    cluster_counter = collections.Counter(result)\n",
    "    original_counter = collections.Counter(label)\n",
    "\n",
    "    t = []\n",
    "    for k in cluster_counter:\n",
    "        p_k = []\n",
    "        for j in original_counter:\n",
    "            count = 0\n",
    "            for i in range(len(result)):\n",
    "                if result[i] == k and label[i] == j: # 求交集\n",
    "                    count += 1\n",
    "            p_k.append(count)\n",
    "        temp_t = max(p_k)\n",
    "        t.append(temp_t)\n",
    "    \n",
    "    print(\"purity = \" + str(sum(t)/total_num))"
   ]
  },
  {
   "cell_type": "code",
   "execution_count": 3,
   "id": "10532749-41af-4cd2-8d83-95f8015e4c56",
   "metadata": {},
   "outputs": [
    {
     "name": "stdout",
     "output_type": "stream",
     "text": [
      "purity = 0.6642335766423357\n",
      "cost_time = 0.14655637741088867\n"
     ]
    }
   ],
   "source": [
    "clk_id = time.CLOCK_REALTIME \n",
    "\n",
    "t1 = time.clock_gettime(clk_id)\n",
    "\n",
    "model = KMeans(n_clusters=2, random_state=1)\n",
    "model.fit(X)\n",
    "purity(y,model.labels_)\n",
    "\n",
    "t2 = time.clock_gettime(clk_id)\n",
    "\n",
    "print(\"cost_time = \" + str(t2 - t1))"
   ]
  }
 ],
 "metadata": {
  "kernelspec": {
   "display_name": "Python 3 (ipykernel)",
   "language": "python",
   "name": "python3"
  },
  "language_info": {
   "codemirror_mode": {
    "name": "ipython",
    "version": 3
   },
   "file_extension": ".py",
   "mimetype": "text/x-python",
   "name": "python",
   "nbconvert_exporter": "python",
   "pygments_lexer": "ipython3",
   "version": "3.7.13"
  }
 },
 "nbformat": 4,
 "nbformat_minor": 5
}
