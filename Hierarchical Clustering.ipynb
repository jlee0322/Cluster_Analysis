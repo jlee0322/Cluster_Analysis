{
 "cells": [
  {
   "cell_type": "code",
   "execution_count": 1,
   "id": "1cb13104-bf8f-4db9-85d5-a23b96ec5031",
   "metadata": {},
   "outputs": [],
   "source": [
    "import matplotlib.pyplot as plt\n",
    "import collections\n",
    "from mpl_toolkits.mplot3d import Axes3D\n",
    "from sklearn.cluster import AgglomerativeClustering\n",
    "import time\n",
    "import scipy.cluster.hierarchy as sch\n",
    "from sklearn.preprocessing import LabelEncoder\n",
    "import pandas as pd\n",
    "\n",
    "bank = pd.read_csv('bank.data')\n",
    "\n",
    "X = bank.iloc[:,:-1]\n",
    "y = bank['y']\n",
    "\n",
    "X = X.apply(LabelEncoder().fit_transform)\n"
   ]
  },
  {
   "cell_type": "code",
   "execution_count": 2,
   "id": "0e7aa11a-4fd5-42f5-96f1-ffd50318dcda",
   "metadata": {},
   "outputs": [],
   "source": [
    "def purity(result, label):\n",
    "    # 计算纯度\n",
    "\n",
    "    total_num = len(label)\n",
    "    cluster_counter = collections.Counter(result)\n",
    "    original_counter = collections.Counter(label)\n",
    "\n",
    "    t = []\n",
    "    for k in cluster_counter:\n",
    "        p_k = []\n",
    "        for j in original_counter:\n",
    "            count = 0\n",
    "            for i in range(len(result)):\n",
    "                if result[i] == k and label[i] == j: # 求交集\n",
    "                    count += 1\n",
    "            p_k.append(count)\n",
    "        temp_t = max(p_k)\n",
    "        t.append(temp_t)\n",
    "    \n",
    "    print(\"purity = \" + str(sum(t)/total_num))"
   ]
  },
  {
   "cell_type": "code",
   "execution_count": 3,
   "id": "a1f9a89d-64c5-44e0-aa91-fdb53b7016c1",
   "metadata": {},
   "outputs": [
    {
     "name": "stdout",
     "output_type": "stream",
     "text": [
      "purity = 0.5529750055297501\n",
      "cost_time = 0.5679607391357422\n"
     ]
    },
    {
     "data": {
      "image/png": "[encoded data removed]",
      "text/plain": [
       "<Figure size 432x288 with 1 Axes>"
      ]
     },
     "metadata": {
      "needs_background": "light"
     },
     "output_type": "display_data"
    },
    {
     "name": "stdout",
     "output_type": "stream",
     "text": [
      "[0 0 0 ... 1 0 0]\n",
      "0       no\n",
      "1       no\n",
      "2       no\n",
      "3       no\n",
      "4       no\n",
      "        ..\n",
      "4516    no\n",
      "4517    no\n",
      "4518    no\n",
      "4519    no\n",
      "4520    no\n",
      "Name: y, Length: 4521, dtype: object\n"
     ]
    }
   ],
   "source": [
    "clk_id = time.CLOCK_REALTIME \n",
    "\n",
    "t1 = time.clock_gettime(clk_id)\n",
    "model=AgglomerativeClustering(n_clusters=2,affinity='euclidean',linkage='ward',compute_full_tree=False)\n",
    "\n",
    "\n",
    "model.fit(X)\n",
    "\n",
    "purity(y,model.labels_)\n",
    "\n",
    "t2 = time.clock_gettime(clk_id)\n",
    "print(\"cost_time = \" + str(t2 - t1))\n",
    "dis=sch.linkage(X,metric='euclidean',method='ward')\n",
    "\n",
    "sch.dendrogram(dis)\n",
    "plt.show()\n",
    "print(model.labels_)\n",
    "print(y)\n"
   ]
  }
 ],
 "metadata": {
  "kernelspec": {
   "display_name": "Python 3 (ipykernel)",
   "language": "python",
   "name": "python3"
  },
  "language_info": {
   "codemirror_mode": {
    "name": "ipython",
    "version": 3
   },
   "file_extension": ".py",
   "mimetype": "text/x-python",
   "name": "python",
   "nbconvert_exporter": "python",
   "pygments_lexer": "ipython3",
   "version": "3.7.13"
  }
 },
 "nbformat": 4,
 "nbformat_minor": 5
}
