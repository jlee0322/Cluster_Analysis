{
 "cells": [
  {
   "cell_type": "code",
   "execution_count": 1,
   "id": "dbc8723e-161e-48de-bb6f-97d6d0db170e",
   "metadata": {},
   "outputs": [],
   "source": [
    "import matplotlib.pyplot as plt\n",
    "import collections\n",
    "import time\n",
    "from sklearn import datasets\n",
    "from sklearn.cluster import DBSCAN"
   ]
  },
  {
   "cell_type": "code",
   "execution_count": 2,
   "id": "94c865b4-ae26-49bc-a0ca-2dcb3eef119f",
   "metadata": {},
   "outputs": [],
   "source": [
    "def purity(result, label):\n",
    "\n",
    "    total_num = len(label)\n",
    "    cluster_counter = collections.Counter(result)\n",
    "    original_counter = collections.Counter(label)\n",
    "\n",
    "    t = []\n",
    "    for k in cluster_counter:\n",
    "        p_k = []\n",
    "        for j in original_counter:\n",
    "            count = 0\n",
    "            for i in range(len(result)):\n",
    "                if result[i] == k and label[i] == j: # 求交集\n",
    "                    count += 1\n",
    "            p_k.append(count)\n",
    "        temp_t = max(p_k)\n",
    "        t.append(temp_t)\n",
    "    \n",
    "    print(\"purity = \" + str(sum(t)/total_num))"
   ]
  },
  {
   "cell_type": "code",
   "execution_count": 3,
   "id": "e430f50b-6527-4771-85ca-a715ad8e45ec",
   "metadata": {},
   "outputs": [],
   "source": [
    "iris=datasets.load_iris()\n",
    "X=iris.data\n",
    "X=X[:,2:4]"
   ]
  },
  {
   "cell_type": "code",
   "execution_count": 4,
   "id": "990c43ef-2045-4fa0-941c-e9583025f148",
   "metadata": {},
   "outputs": [
    {
     "name": "stdout",
     "output_type": "stream",
     "text": [
      "purity = 0.86\n",
      "cost_time = 0.004523515701293945\n",
      "[0 0 0 0 0 0 0 0 0 0 0 0 0 0 0 0 0 0 0 0 0 0 0 0 0 0 0 0 0 0 0 0 0 0 0 0 0\n",
      " 0 0 0 0 0 0 0 0 0 0 0 0 0 1 1 1 1 1 1 1 1 1 1 1 1 1 1 1 1 1 1 1 1 1 1 1 1\n",
      " 1 1 1 1 1 1 1 1 1 1 1 1 1 1 1 1 1 1 1 1 1 1 1 1 1 1 2 2 2 2 2 2 2 2 2 2 2\n",
      " 2 2 2 2 2 2 2 2 2 2 2 2 2 2 2 2 2 2 2 2 2 2 2 2 2 2 2 2 2 2 2 2 2 2 2 2 2\n",
      " 2 2]\n",
      "[ 0  0  0  0  0  0  0  0  0  0  0  0  0  0  0  0  0  0  0  0  0  0  0  0\n",
      "  0  0  0  0  0  0  0  0  0  0  0  0  0  0  0  0  0  0  0  0  0  0  0  0\n",
      "  0  0  1  1  1  1  1  1  1 -1  1  1 -1  1  1  1  1  1  1  1  1  1  1  1\n",
      "  1  1  1  1  1  1  1 -1  1  1  1  1  1  1  1  1  1  1  1  1  1 -1  1  1\n",
      "  1  1 -1  1 -1  1  1 -1  1 -1  1 -1 -1 -1  1  1  1  1 -1  1  1 -1 -1  1\n",
      "  1  1 -1  1  1 -1  1  1  1 -1 -1 -1  1  1 -1 -1  1  1  1  1  1  1  1  1\n",
      "  1  1  1  1  1  1]\n"
     ]
    }
   ],
   "source": [
    "clk_id = time.CLOCK_REALTIME \n",
    "\n",
    "t1 = time.clock_gettime(clk_id)\n",
    "\n",
    "clustering=DBSCAN(eps=0.3,min_samples=10).fit(X)\n",
    "purity(iris.target,clustering.labels_)\n",
    "\n",
    "t2 = time.clock_gettime(clk_id)\n",
    "\n",
    "print(\"cost_time = \" + str(t2 - t1))\n",
    "print(iris.target)\n",
    "print(clustering.labels_)"
   ]
  },
  {
   "cell_type": "code",
   "execution_count": 5,
   "id": "cc310b15-b4e9-4082-93cf-5c0fa7386348",
   "metadata": {},
   "outputs": [
    {
     "data": {
      "image/png": "[encoded data removed]",
      "text/plain": [
       "<Figure size 432x288 with 1 Axes>"
      ]
     },
     "metadata": {
      "needs_background": "light"
     },
     "output_type": "display_data"
    }
   ],
   "source": [
    "# 這張圖用KMeans分群好的label來作圖\n",
    "scatter = plt.scatter(X[:,0],X[:,1],c=clustering.labels_)\n",
    "plt.xlabel('length')\n",
    "plt.ylabel('width')\n",
    "plt.legend( handles= scatter.legend_elements()[0], labels= iris.target_names.tolist())\n",
    "plt.show()"
   ]
  }
 ],
 "metadata": {
  "kernelspec": {
   "display_name": "Python 3 (ipykernel)",
   "language": "python",
   "name": "python3"
  },
  "language_info": {
   "codemirror_mode": {
    "name": "ipython",
    "version": 3
   },
   "file_extension": ".py",
   "mimetype": "text/x-python",
   "name": "python",
   "nbconvert_exporter": "python",
   "pygments_lexer": "ipython3",
   "version": "3.7.13"
  }
 },
 "nbformat": 4,
 "nbformat_minor": 5
}
